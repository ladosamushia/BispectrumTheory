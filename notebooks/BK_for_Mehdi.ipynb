{
 "cells": [
  {
   "cell_type": "code",
   "execution_count": 1,
   "metadata": {},
   "outputs": [],
   "source": [
    "using DelimitedFiles"
   ]
  },
  {
   "cell_type": "code",
   "execution_count": 2,
   "metadata": {},
   "outputs": [
    {
     "ename": "ArgumentError",
     "evalue": "ArgumentError: Cannot open '../data/test_pk.txt': not a file",
     "output_type": "error",
     "traceback": [
      "ArgumentError: Cannot open '../data/test_pk.txt': not a file\n",
      "\n",
      "Stacktrace:\n",
      " [1] readdlm_auto(input::String, dlm::Char, T::Type, eol::Char, auto::Bool; opts::Base.Pairs{Symbol, Union{}, Tuple{}, NamedTuple{(), Tuple{}}})\n",
      "   @ DelimitedFiles C:\\Users\\lado\\AppData\\Local\\Programs\\Julia-1.8.5\\share\\julia\\stdlib\\v1.8\\DelimitedFiles\\src\\DelimitedFiles.jl:234\n",
      " [2] readdlm_auto\n",
      "   @ C:\\Users\\lado\\AppData\\Local\\Programs\\Julia-1.8.5\\share\\julia\\stdlib\\v1.8\\DelimitedFiles\\src\\DelimitedFiles.jl:233 [inlined]\n",
      " [3] #readdlm#5\n",
      "   @ C:\\Users\\lado\\AppData\\Local\\Programs\\Julia-1.8.5\\share\\julia\\stdlib\\v1.8\\DelimitedFiles\\src\\DelimitedFiles.jl:170 [inlined]\n",
      " [4] readdlm\n",
      "   @ C:\\Users\\lado\\AppData\\Local\\Programs\\Julia-1.8.5\\share\\julia\\stdlib\\v1.8\\DelimitedFiles\\src\\DelimitedFiles.jl:170 [inlined]\n",
      " [5] #readdlm#3\n",
      "   @ C:\\Users\\lado\\AppData\\Local\\Programs\\Julia-1.8.5\\share\\julia\\stdlib\\v1.8\\DelimitedFiles\\src\\DelimitedFiles.jl:118 [inlined]\n",
      " [6] readdlm(input::String)\n",
      "   @ DelimitedFiles C:\\Users\\lado\\AppData\\Local\\Programs\\Julia-1.8.5\\share\\julia\\stdlib\\v1.8\\DelimitedFiles\\src\\DelimitedFiles.jl:118\n",
      " [7] top-level scope\n",
      "   @ Untitled-1.ipynb:1"
     ]
    }
   ],
   "source": [
    "pk = readdlm(\"../data/test_pk.txt\")\n",
    "pksmooth = readdlm(\"../data/test_smooth_pk.txt\")"
   ]
  },
  {
   "cell_type": "code",
   "execution_count": 8,
   "metadata": {},
   "outputs": [
    {
     "name": "stderr",
     "output_type": "stream",
     "text": [
      "C:\\Users\\lado\\AppData\\Local\\Temp\\ipykernel_21032\\3004209535.py:1: RuntimeWarning: invalid value encountered in divide\n",
      "  plt.plot(pk[:,0],pk[:,1]/pksmooth[:,1])\n"
     ]
    },
    {
     "data": {
      "text/plain": [
       "[<matplotlib.lines.Line2D at 0x1dbc02b1160>]"
      ]
     },
     "execution_count": 8,
     "metadata": {},
     "output_type": "execute_result"
    },
    {
     "data": {
      "image/png": "[encoded data removed]",
      "text/plain": [
       "<Figure size 640x480 with 1 Axes>"
      ]
     },
     "metadata": {},
     "output_type": "display_data"
    }
   ],
   "source": [
    "plt.plot(pk[:,0],pk[:,1]/pksmooth[:,1])"
   ]
  },
  {
   "cell_type": "code",
   "execution_count": 9,
   "metadata": {},
   "outputs": [
    {
     "data": {
      "text/plain": [
       "array([[0.0000e+00, 0.0000e+00],\n",
       "       [1.0000e-04, 5.6947e+02],\n",
       "       [1.0202e-04, 5.8051e+02],\n",
       "       ...,\n",
       "       [2.2925e+00, 8.3395e+00],\n",
       "       [2.3388e+00, 7.9379e+00],\n",
       "       [2.3861e+00, 7.5554e+00]])"
      ]
     },
     "execution_count": 9,
     "metadata": {},
     "output_type": "execute_result"
    }
   ],
   "source": []
  }
 ],
 "metadata": {
  "kernelspec": {
   "display_name": "Julia 1.8.5",
   "language": "julia",
   "name": "julia-1.8"
  },
  "language_info": {
   "file_extension": ".jl",
   "mimetype": "application/julia",
   "name": "julia",
   "version": "1.8.5"
  },
  "orig_nbformat": 4
 },
 "nbformat": 4,
 "nbformat_minor": 2
}

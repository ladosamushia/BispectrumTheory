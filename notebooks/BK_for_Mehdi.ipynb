{
 "cells": [
  {
   "cell_type": "code",
   "execution_count": 2,
   "metadata": {},
   "outputs": [
    {
     "data": {
      "text/plain": [
       "init_linear_pk (generic function with 1 method)"
      ]
     },
     "metadata": {},
     "output_type": "display_data"
    }
   ],
   "source": [
    "using DelimitedFiles\n",
    "using Plots\n",
    "include(\"../src/utils.jl\")\n",
    "include(\"../src/bispectrum_multipoles.jl\")\n",
    "include(\"../src/TreeLevelBispectrum.jl\")\n",
    "include(\"../src/power_spectrum.jl\")"
   ]
  },
  {
   "cell_type": "code",
   "execution_count": 3,
   "metadata": {},
   "outputs": [],
   "source": [
    "pk = readdlm(\"../data/test_pk.txt\");\n",
    "pksmooth = readdlm(\"../data/test_smooth_pk_lowk.txt\");"
   ]
  },
  {
   "cell_type": "code",
   "execution_count": 4,
   "metadata": {},
   "outputs": [],
   "source": [
    "kkk = kkk_grid(0.005, 0.01, 30);"
   ]
  },
  {
   "cell_type": "code",
   "execution_count": 5,
   "metadata": {},
   "outputs": [],
   "source": [
    "pkfunc = init_linear_pk(\"../data/test_pk.txt\");\n",
    "pksmoothfunc = init_linear_pk(\"../data/test_smooth_pk_lowk.txt\");"
   ]
  },
  {
   "cell_type": "code",
   "execution_count": 7,
   "metadata": {},
   "outputs": [],
   "source": [
    "Btest = zeros(2600)\n",
    "Bsmooth = zeros(2600)\n",
    "for i in 1:2600\n",
    "    Btest[i] = B00(kkk[1,i],kkk[2,i],kkk[3,i],2,0.3,0.7,pkfunc,tree_level_bk)\n",
    "    Bsmooth[i] = B00(kkk[1,i],kkk[2,i],kkk[3,i],2,0.3,0.7,pksmoothfunc,tree_level_bk)\n",
    "end\n",
    "Bbao = zeros(4,2600)\n",
    "for i in 1:2600\n",
    "    Bbao[1,i] = kkk[1,i]\n",
    "    Bbao[2,i] = kkk[2,i]\n",
    "    Bbao[3,i] = kkk[3,i]\n",
    "    Bbao[4,i] = Btest[i]/Bsmooth[i]\n",
    "end"
   ]
  },
  {
   "cell_type": "code",
   "execution_count": 9,
   "metadata": {},
   "outputs": [],
   "source": [
    "writedlm(\"../data/BK_bao_only.txt\", Bbao)"
   ]
  }
 ],
 "metadata": {
  "kernelspec": {
   "display_name": "Julia 1.8.5",
   "language": "julia",
   "name": "julia-1.8"
  },
  "language_info": {
   "file_extension": ".jl",
   "mimetype": "application/julia",
   "name": "julia",
   "version": "1.8.5"
  },
  "orig_nbformat": 4
 },
 "nbformat": 4,
 "nbformat_minor": 2
}
